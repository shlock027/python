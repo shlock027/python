{
 "cells": [
  {
   "cell_type": "code",
   "execution_count": null,
   "id": "c530bbea-db30-444c-9aa6-6ec41c68ec04",
   "metadata": {},
   "outputs": [],
   "source": [
    "Q1. How do you comment code in Python? What are the different types of comments\n",
    "1.single-line comment\n",
    "2.Multi-line comments"
   ]
  },
  {
   "cell_type": "code",
   "execution_count": 2,
   "id": "33655331-0f4b-4718-9c85-1d8057e81d15",
   "metadata": {},
   "outputs": [],
   "source": [
    "# This is a single-line comment in Python"
   ]
  },
  {
   "cell_type": "code",
   "execution_count": 6,
   "id": "29866fd4-44ce-427f-a319-d014f6846909",
   "metadata": {},
   "outputs": [
    {
     "data": {
      "text/plain": [
       "'\\nThis is a multi-line comment\\nin Python.\\nIt can span across multiple lines.\\n'"
      ]
     },
     "execution_count": 6,
     "metadata": {},
     "output_type": "execute_result"
    }
   ],
   "source": [
    "'''\n",
    "This is a multi-line comment\n",
    "in Python.\n",
    "It can span across multiple lines.\n",
    "'''"
   ]
  },
  {
   "cell_type": "code",
   "execution_count": null,
   "id": "146c65ca-8ce4-4186-954d-6b2a53163c2c",
   "metadata": {},
   "outputs": [],
   "source": [
    "Q2. What are variables in Python? How do you declare and assign values to variables?"
   ]
  },
  {
   "cell_type": "code",
   "execution_count": null,
   "id": "b68db177-b34a-4a07-8416-9449100e54bd",
   "metadata": {},
   "outputs": [],
   "source": [
    "In Python, variables are used to store data or values. A variable is like a container that holds a value, and you can give it a name to refer to that value later in your code.\n",
    "\n",
    "To declare a variable in Python, you simply choose a name for the variable and use the assignment operator (=) to assign a value to it."
   ]
  },
  {
   "cell_type": "code",
   "execution_count": 10,
   "id": "4e012649-ef54-428f-a6bb-bed4ae41c03b",
   "metadata": {},
   "outputs": [],
   "source": [
    "a=25"
   ]
  },
  {
   "cell_type": "code",
   "execution_count": 11,
   "id": "bef3acd1-e2f8-45d4-83bc-e1e4bdff44bd",
   "metadata": {},
   "outputs": [],
   "source": [
    "b=\"pwskills\""
   ]
  },
  {
   "cell_type": "code",
   "execution_count": 12,
   "id": "b3359612-bc90-4c4b-b324-d82e27ac2d93",
   "metadata": {},
   "outputs": [
    {
     "data": {
      "text/plain": [
       "int"
      ]
     },
     "execution_count": 12,
     "metadata": {},
     "output_type": "execute_result"
    }
   ],
   "source": [
    "type(a)"
   ]
  },
  {
   "cell_type": "code",
   "execution_count": 13,
   "id": "5c313c82-f8e7-465d-8d37-d8e9750f3484",
   "metadata": {},
   "outputs": [
    {
     "data": {
      "text/plain": [
       "str"
      ]
     },
     "execution_count": 13,
     "metadata": {},
     "output_type": "execute_result"
    }
   ],
   "source": [
    "type(b)"
   ]
  },
  {
   "cell_type": "code",
   "execution_count": null,
   "id": "22567c2f-a21b-42e4-a5f6-94ca6f0fa810",
   "metadata": {},
   "outputs": [],
   "source": [
    "Q3. How do you convert one data type to another in Python\n",
    "?"
   ]
  },
  {
   "cell_type": "code",
   "execution_count": 4,
   "id": "89c85799-b895-4515-8ef4-f383a81bcb6c",
   "metadata": {},
   "outputs": [],
   "source": [
    "d=\"101\""
   ]
  },
  {
   "cell_type": "code",
   "execution_count": 7,
   "id": "df8f7b78-f70f-466b-9454-254fd90f6b9a",
   "metadata": {},
   "outputs": [
    {
     "name": "stdout",
     "output_type": "stream",
     "text": [
      "5\n",
      "101\n",
      "101.0\n"
     ]
    }
   ],
   "source": [
    "print(int(d,2))\n",
    "print(int(d,10))\n",
    "print(float(d))"
   ]
  },
  {
   "cell_type": "code",
   "execution_count": null,
   "id": "e99be1aa-46b6-4dff-ba03-a8ca2deb1f5c",
   "metadata": {},
   "outputs": [],
   "source": [
    "Q5. Given a list my_list = [1, 2, 3, 4, 5], write the code to slice the list and obtain the sub-list [2, 3]."
   ]
  },
  {
   "cell_type": "code",
   "execution_count": 9,
   "id": "fedd9dd3-d372-462e-972a-c030f2771ebe",
   "metadata": {},
   "outputs": [],
   "source": [
    "my_list = [1, 2, 3, 4, 5]"
   ]
  },
  {
   "cell_type": "code",
   "execution_count": 10,
   "id": "d07f9bb1-4391-4f2b-aeb4-14b96f3f73d8",
   "metadata": {},
   "outputs": [
    {
     "data": {
      "text/plain": [
       "[2, 3]"
      ]
     },
     "execution_count": 10,
     "metadata": {},
     "output_type": "execute_result"
    }
   ],
   "source": [
    "my_list[1:3]"
   ]
  },
  {
   "cell_type": "code",
   "execution_count": null,
   "id": "fd88eb26-b458-472b-86d4-39741a9fca5d",
   "metadata": {},
   "outputs": [],
   "source": [
    "Q6. What is a complex number in mathematics, and how is it represented in Python?\n",
    "\n",
    "Complex numbers are the numbers that are expressed in the form of a+ib where, a,b are real numbers and 'i' is an imaginary number called “iota”. "
   ]
  },
  {
   "cell_type": "code",
   "execution_count": 11,
   "id": "4d354001-02c4-4f2a-a7f4-8ef7e2ca7f66",
   "metadata": {},
   "outputs": [],
   "source": [
    "c=3+2J"
   ]
  },
  {
   "cell_type": "code",
   "execution_count": 12,
   "id": "f5cc80de-4f6f-4694-9839-95d5db7fbfb3",
   "metadata": {},
   "outputs": [
    {
     "data": {
      "text/plain": [
       "complex"
      ]
     },
     "execution_count": 12,
     "metadata": {},
     "output_type": "execute_result"
    }
   ],
   "source": [
    "type(c)"
   ]
  },
  {
   "cell_type": "code",
   "execution_count": null,
   "id": "8099c409-4c9f-4640-9b43-87f01c8239b7",
   "metadata": {},
   "outputs": [],
   "source": [
    "Q7. What is the correct way to declare a variable named age and assign the value 25 to it?"
   ]
  },
  {
   "cell_type": "code",
   "execution_count": 1,
   "id": "6cc72072-a779-4b8b-9a32-581e7907f50f",
   "metadata": {},
   "outputs": [],
   "source": [
    "age = 25"
   ]
  },
  {
   "cell_type": "code",
   "execution_count": null,
   "id": "2ef168e8-5a29-46bd-b185-017a7913b4d2",
   "metadata": {},
   "outputs": [],
   "source": [
    "Q8. Declare a variable named price and assign the value 9.99 to it . What data type does this variable belong it."
   ]
  },
  {
   "cell_type": "code",
   "execution_count": 2,
   "id": "e545b1a0-d12c-43c3-9053-6fe298948cfa",
   "metadata": {},
   "outputs": [],
   "source": [
    "price = 9.99"
   ]
  },
  {
   "cell_type": "code",
   "execution_count": 3,
   "id": "c367cfad-e586-467f-a72b-56e22ff79cf2",
   "metadata": {},
   "outputs": [
    {
     "data": {
      "text/plain": [
       "float"
      ]
     },
     "execution_count": 3,
     "metadata": {},
     "output_type": "execute_result"
    }
   ],
   "source": [
    "type(price)"
   ]
  },
  {
   "cell_type": "code",
   "execution_count": null,
   "id": "dee6d0f3-0f78-416f-bb0d-802a434fcb32",
   "metadata": {},
   "outputs": [],
   "source": [
    "Q9. Create a variable named name and assign your full name to it as a string . How would you print the value of \n",
    "      this variable ?"
   ]
  },
  {
   "cell_type": "code",
   "execution_count": 4,
   "id": "224405dd-d25c-42e4-a447-9a977ce54e87",
   "metadata": {},
   "outputs": [],
   "source": [
    "name=\"shlock\""
   ]
  },
  {
   "cell_type": "code",
   "execution_count": 5,
   "id": "2bc008b8-d656-46f9-a223-49b855ef43d6",
   "metadata": {},
   "outputs": [
    {
     "name": "stdout",
     "output_type": "stream",
     "text": [
      "shlock\n"
     ]
    }
   ],
   "source": [
    "print(name)"
   ]
  },
  {
   "cell_type": "code",
   "execution_count": null,
   "id": "65dd51b1-ecfa-45fc-a3cc-5da068daae59",
   "metadata": {},
   "outputs": [],
   "source": [
    " Q10.Given the string \"Hello ,World!\",extract the substring \"word\"."
   ]
  },
  {
   "cell_type": "code",
   "execution_count": 6,
   "id": "44d396f2-8c06-430d-aed0-d418bed17077",
   "metadata": {},
   "outputs": [],
   "source": [
    "l=\"Hello,World!\""
   ]
  },
  {
   "cell_type": "code",
   "execution_count": 7,
   "id": "17202d1d-21b6-4058-be75-dc24ad53b370",
   "metadata": {},
   "outputs": [
    {
     "data": {
      "text/plain": [
       "'World'"
      ]
     },
     "execution_count": 7,
     "metadata": {},
     "output_type": "execute_result"
    }
   ],
   "source": [
    "l[6:11]"
   ]
  },
  {
   "cell_type": "code",
   "execution_count": null,
   "id": "6242ea54-59f8-4e41-8db8-667ad4d13bf0",
   "metadata": {},
   "outputs": [],
   "source": [
    "Q11.Create a variable named \"is_student\" and assign it a boolean value indicating whether you are \n",
    "     currently a student or not."
   ]
  },
  {
   "cell_type": "code",
   "execution_count": 19,
   "id": "6d313f44-c569-4c64-bb8d-1cae3b3bb9e7",
   "metadata": {},
   "outputs": [],
   "source": [
    "is_student=True"
   ]
  },
  {
   "cell_type": "code",
   "execution_count": null,
   "id": "0df0ed7a-0cee-4933-adbb-2de64a98c0f7",
   "metadata": {},
   "outputs": [],
   "source": [
    "is_student=False"
   ]
  }
 ],
 "metadata": {
  "kernelspec": {
   "display_name": "Python 3 (ipykernel)",
   "language": "python",
   "name": "python3"
  },
  "language_info": {
   "codemirror_mode": {
    "name": "ipython",
    "version": 3
   },
   "file_extension": ".py",
   "mimetype": "text/x-python",
   "name": "python",
   "nbconvert_exporter": "python",
   "pygments_lexer": "ipython3",
   "version": "3.10.8"
  }
 },
 "nbformat": 4,
 "nbformat_minor": 5
}
